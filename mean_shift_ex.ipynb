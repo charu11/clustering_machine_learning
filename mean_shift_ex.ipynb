{
  "nbformat": 4,
  "nbformat_minor": 0,
  "metadata": {
    "colab": {
      "name": "mean_shift_ex.ipynb",
      "provenance": [],
      "mount_file_id": "1AsGxeIZiovsh2FJOCc-Abmdafb6y8lmu",
      "authorship_tag": "ABX9TyPbZTpP7TIH7OuH8CGINwSi",
      "include_colab_link": true
    },
    "kernelspec": {
      "name": "python3",
      "display_name": "Python 3"
    }
  },
  "cells": [
    {
      "cell_type": "markdown",
      "metadata": {
        "id": "view-in-github",
        "colab_type": "text"
      },
      "source": [
        "<a href=\"https://colab.research.google.com/github/charu11/clustering_machine_learning/blob/clustering/mean_shift_ex.ipynb\" target=\"_parent\"><img src=\"https://colab.research.google.com/assets/colab-badge.svg\" alt=\"Open In Colab\"/></a>"
      ]
    },
    {
      "cell_type": "code",
      "metadata": {
        "id": "VAvR5gW00C75",
        "colab_type": "code",
        "colab": {}
      },
      "source": [
        "import numpy as np\n",
        "from sklearn.cluster import MeanShift, KMeans\n",
        "from sklearn import preprocessing\n",
        "from sklearn.model_selection import train_test_split\n",
        "import pandas as pd\n",
        "import matplotlib.pyplot as plt\n"
      ],
      "execution_count": 0,
      "outputs": []
    },
    {
      "cell_type": "code",
      "metadata": {
        "id": "_KXlPDeT5t0p",
        "colab_type": "code",
        "colab": {
          "base_uri": "https://localhost:8080/",
          "height": 54
        },
        "outputId": "d03fb2c1-10b3-43b2-efe4-c172e2185e51"
      },
      "source": [
        "df = pd.read_excel('/content/drive/My Drive/Clustering_learning/titanic.xls')\n",
        "\n",
        "original_df = pd.DataFrame.copy(df)\n",
        "df.drop(['body', 'name'],1, inplace=True)\n",
        "df.fillna(0, inplace=True)\n",
        "\n",
        "def handle_non_numerical_data(df):\n",
        "  # handling non_numerical data: must convert\n",
        "  columns = df.columns.values\n",
        "\n",
        "  for column in columns:\n",
        "    text_digit_vals = {}\n",
        "    def convert_to_int(val):\n",
        "      return text_digit_vals[val]\n",
        "\n",
        "    if df[column].dtype != np.int64 and df[column].dtype != np.float64:\n",
        "\n",
        "      column_content = df[column].values.tolist()\n",
        "      \n",
        "      # finding just the unique\n",
        "      unique_elements = set(column_content)\n",
        "\n",
        "      x = 0\n",
        "      for unique in unique_elements:\n",
        "        if unique not in text_digit_vals:\n",
        "          #creating the dict that contains new\n",
        "          #id per unique string\n",
        "          text_digit_vals[unique] = x\n",
        "          x += 1\n",
        "      # now we map the new 'id' value\n",
        "      #to replace the string.\n",
        "      df[column] = list(map(convert_to_int, df[column]))\n",
        "\n",
        "  return df\n",
        "\n",
        "df = handle_non_numerical_data(df)\n",
        "df.drop(['ticket', 'home.dest'], 1, inplace=True)\n",
        "\n",
        "X = np.array(df.drop(['survived'], 1).astype(float))\n",
        "X = preprocessing.scale(X)\n",
        "y= np.array(df['survived'])\n",
        "\n",
        "clf = MeanShift()\n",
        "clf.fit(X)\n",
        "\n"
      ],
      "execution_count": 25,
      "outputs": [
        {
          "output_type": "execute_result",
          "data": {
            "text/plain": [
              "MeanShift(bandwidth=None, bin_seeding=False, cluster_all=True, max_iter=300,\n",
              "          min_bin_freq=1, n_jobs=None, seeds=None)"
            ]
          },
          "metadata": {
            "tags": []
          },
          "execution_count": 25
        }
      ]
    },
    {
      "cell_type": "code",
      "metadata": {
        "id": "VfDWGVTyGcTR",
        "colab_type": "code",
        "colab": {}
      },
      "source": [
        "labels = clf.labels_\n",
        "cluster_centers = clf.cluster_centers_\n"
      ],
      "execution_count": 0,
      "outputs": []
    },
    {
      "cell_type": "code",
      "metadata": {
        "id": "hJBw_uwhHb9D",
        "colab_type": "code",
        "colab": {}
      },
      "source": [
        "original_df['cluster_group'] = np.nan"
      ],
      "execution_count": 0,
      "outputs": []
    },
    {
      "cell_type": "code",
      "metadata": {
        "id": "7WkVnGS8IMy5",
        "colab_type": "code",
        "colab": {
          "base_uri": "https://localhost:8080/",
          "height": 128
        },
        "outputId": "b6f27f46-c991-45e4-db72-29b351c29c69"
      },
      "source": [
        "for i in range(len(X)):\n",
        "    original_df['cluster_group'].iloc[i] = labels[i]\n"
      ],
      "execution_count": 28,
      "outputs": [
        {
          "output_type": "stream",
          "text": [
            "/usr/local/lib/python3.6/dist-packages/pandas/core/indexing.py:671: SettingWithCopyWarning: \n",
            "A value is trying to be set on a copy of a slice from a DataFrame\n",
            "\n",
            "See the caveats in the documentation: https://pandas.pydata.org/pandas-docs/stable/user_guide/indexing.html#returning-a-view-versus-a-copy\n",
            "  self._setitem_with_indexer(indexer, value)\n"
          ],
          "name": "stderr"
        }
      ]
    },
    {
      "cell_type": "code",
      "metadata": {
        "id": "UFyKwEQqc1Rr",
        "colab_type": "code",
        "colab": {
          "base_uri": "https://localhost:8080/",
          "height": 35
        },
        "outputId": "713726ec-4fcf-4a60-d47f-b9ed10ebc317"
      },
      "source": [
        "n_clusters_ = len(np.unique(labels))\n",
        "survival_rates = {}\n",
        "\n",
        "for i in range(n_clusters_):\n",
        "  temp_df = original_df[(original_df['cluster_group'] == float(i))]\n",
        "  #print(temp_df.head())\n",
        "\n",
        "  survival_cluster = temp_df[ (temp_df['cluster_group']==1)]\n",
        "\n",
        "  survival_rate = len(survival_cluster)/ len(temp_df)\n",
        "  survival_rates[i] = survival_rate\n",
        "\n",
        "print(survival_rates)\n"
      ],
      "execution_count": 35,
      "outputs": [
        {
          "output_type": "stream",
          "text": [
            "{0: 0.0, 1: 1.0, 2: 0.0, 3: 0.0, 4: 0.0}\n"
          ],
          "name": "stdout"
        }
      ]
    },
    {
      "cell_type": "code",
      "metadata": {
        "id": "gDqJDEymmHnC",
        "colab_type": "code",
        "colab": {
          "base_uri": "https://localhost:8080/",
          "height": 217
        },
        "outputId": "bcd598aa-1b12-45a3-b18d-c52fd1ca734c"
      },
      "source": [
        "print(original_df[ (original_df['cluster_group']==2) ].describe())\n"
      ],
      "execution_count": 40,
      "outputs": [
        {
          "output_type": "stream",
          "text": [
            "       pclass  survived        age  ...      fare  body  cluster_group\n",
            "count     4.0       4.0   4.000000  ...    4.0000   0.0            4.0\n",
            "mean      1.0       1.0  41.000000  ...  512.3292   NaN            2.0\n",
            "std       0.0       0.0  11.343133  ...    0.0000   NaN            0.0\n",
            "min       1.0       1.0  35.000000  ...  512.3292   NaN            2.0\n",
            "25%       1.0       1.0  35.000000  ...  512.3292   NaN            2.0\n",
            "50%       1.0       1.0  35.500000  ...  512.3292   NaN            2.0\n",
            "75%       1.0       1.0  41.500000  ...  512.3292   NaN            2.0\n",
            "max       1.0       1.0  58.000000  ...  512.3292   NaN            2.0\n",
            "\n",
            "[8 rows x 8 columns]\n"
          ],
          "name": "stdout"
        }
      ]
    }
  ]
}