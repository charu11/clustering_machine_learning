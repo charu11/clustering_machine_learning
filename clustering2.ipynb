{
  "nbformat": 4,
  "nbformat_minor": 0,
  "metadata": {
    "colab": {
      "name": "clustering2.ipynb",
      "provenance": [],
      "mount_file_id": "1J4dSjPe4qpVS2vs1B5r0NHNycmdm2DMG",
      "authorship_tag": "ABX9TyPRG9+GcfULYFEZ5+yEid82",
      "include_colab_link": true
    },
    "kernelspec": {
      "name": "python3",
      "display_name": "Python 3"
    }
  },
  "cells": [
    {
      "cell_type": "markdown",
      "metadata": {
        "id": "view-in-github",
        "colab_type": "text"
      },
      "source": [
        "<a href=\"https://colab.research.google.com/github/charu11/clustering_machine_learning/blob/clustering/clustering2.ipynb\" target=\"_parent\"><img src=\"https://colab.research.google.com/assets/colab-badge.svg\" alt=\"Open In Colab\"/></a>"
      ]
    },
    {
      "cell_type": "code",
      "metadata": {
        "id": "XnkWm9v_pCuz",
        "colab_type": "code",
        "colab": {}
      },
      "source": [
        "import matplotlib.pyplot as plt\n",
        "from matplotlib import style\n",
        "style.use('ggplot')\n",
        "import numpy as np\n",
        "from sklearn.cluster import KMeans\n",
        "from sklearn import preprocessing \n",
        "from sklearn.model_selection import train_test_split\n",
        "import pandas as pd\n"
      ],
      "execution_count": 0,
      "outputs": []
    },
    {
      "cell_type": "code",
      "metadata": {
        "id": "EsvcIwX8uHhF",
        "colab_type": "code",
        "colab": {
          "base_uri": "https://localhost:8080/",
          "height": 151
        },
        "outputId": "889637bb-5a43-4760-ebfe-44ac6fce0a8a"
      },
      "source": [
        "df = pd.read_excel('/content/drive/My Drive/Clustering_learning/titanic.xls')\n",
        "\n",
        "df.drop(['body','name'], 1, inplace=True)\n",
        "#df.convert_objects(convert_numeric=True)\n",
        "df.fillna(0, inplace=True)\n",
        "\n",
        "print(df.head())"
      ],
      "execution_count": 12,
      "outputs": [
        {
          "output_type": "stream",
          "text": [
            "   pclass  survived     sex  ...  embarked  boat                        home.dest\n",
            "0       1         1  female  ...         S     2                     St Louis, MO\n",
            "1       1         1    male  ...         S    11  Montreal, PQ / Chesterville, ON\n",
            "2       1         0  female  ...         S     0  Montreal, PQ / Chesterville, ON\n",
            "3       1         0    male  ...         S     0  Montreal, PQ / Chesterville, ON\n",
            "4       1         0  female  ...         S     0  Montreal, PQ / Chesterville, ON\n",
            "\n",
            "[5 rows x 12 columns]\n"
          ],
          "name": "stdout"
        }
      ]
    },
    {
      "cell_type": "code",
      "metadata": {
        "id": "cjVM6i0n3HTj",
        "colab_type": "code",
        "colab": {
          "base_uri": "https://localhost:8080/",
          "height": 151
        },
        "outputId": "93a2c036-e08f-445a-80b9-e7685533b16e"
      },
      "source": [
        "def handle_non_numerical_data(df):\n",
        "  columns  = df.columns.values\n",
        "  for column in columns:\n",
        "    text_digit_vals = {}\n",
        "    def convert_to_int(val):\n",
        "      return text_digit_vals[val]\n",
        "\n",
        "    if df[column].dtype != np.int64 and df[column].dtype != np.float64:\n",
        "      column_content = df[column].values.tolist()\n",
        "      unique_elements = set(column_content)\n",
        "      x = 0\n",
        "      for unique in unique_elements:\n",
        "        if unique not in text_digit_vals:\n",
        "          text_digit_vals[unique] = x\n",
        "          x+=1\n",
        "\n",
        "      df[column] = list(map(convert_to_int, df[column]))\n",
        "\n",
        "  return df\n",
        "\n",
        "df = handle_non_numerical_data(df)\n",
        "print(df.head())"
      ],
      "execution_count": 13,
      "outputs": [
        {
          "output_type": "stream",
          "text": [
            "   pclass  survived  sex      age  ...  cabin  embarked  boat  home.dest\n",
            "0       1         1    1  29.0000  ...    116         0     1        293\n",
            "1       1         1    0   0.9167  ...     27         0    21        236\n",
            "2       1         0    1   2.0000  ...     27         0     0        236\n",
            "3       1         0    0  30.0000  ...     27         0     0        236\n",
            "4       1         0    1  25.0000  ...     27         0     0        236\n",
            "\n",
            "[5 rows x 12 columns]\n"
          ],
          "name": "stdout"
        }
      ]
    },
    {
      "cell_type": "code",
      "metadata": {
        "id": "Kzyzp3rkBrkj",
        "colab_type": "code",
        "colab": {
          "base_uri": "https://localhost:8080/",
          "height": 67
        },
        "outputId": "23a1c563-6cde-4de0-9740-250cea1243f3"
      },
      "source": [
        "X = np.array(df.drop(['survived'], 1).astype(float))\n",
        "X = preprocessing.scale(X)\n",
        "y = np.array(df['survived'])\n",
        "\n",
        "clf = KMeans(n_clusters=2)\n",
        "clf.fit(X)"
      ],
      "execution_count": 17,
      "outputs": [
        {
          "output_type": "execute_result",
          "data": {
            "text/plain": [
              "KMeans(algorithm='auto', copy_x=True, init='k-means++', max_iter=300,\n",
              "       n_clusters=2, n_init=10, n_jobs=None, precompute_distances='auto',\n",
              "       random_state=None, tol=0.0001, verbose=0)"
            ]
          },
          "metadata": {
            "tags": []
          },
          "execution_count": 17
        }
      ]
    },
    {
      "cell_type": "code",
      "metadata": {
        "id": "6WXMknp8CM0I",
        "colab_type": "code",
        "colab": {
          "base_uri": "https://localhost:8080/",
          "height": 34
        },
        "outputId": "ac05560d-c701-4f3d-a835-869be8e2550a"
      },
      "source": [
        "correction = 0\n",
        "for i in range(len(X)):\n",
        "  predict_val = np.array(X[i].astype(float))\n",
        "  predict_val = predict_val.reshape(-1, len(predict_val))\n",
        "  prediction = clf.predict(predict_val)\n",
        "\n",
        "  if prediction[0] == y[i]:\n",
        "    correction +=1\n",
        "\n",
        "print(correction/len(X))"
      ],
      "execution_count": 18,
      "outputs": [
        {
          "output_type": "stream",
          "text": [
            "0.7272727272727273\n"
          ],
          "name": "stdout"
        }
      ]
    }
  ]
}